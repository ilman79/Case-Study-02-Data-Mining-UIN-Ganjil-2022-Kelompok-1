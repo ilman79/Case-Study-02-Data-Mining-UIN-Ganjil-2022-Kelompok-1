{
  "nbformat": 4,
  "nbformat_minor": 0,
  "metadata": {
    "colab": {
      "provenance": [],
      "authorship_tag": "ABX9TyPvYx84P2D398ZZ6g105NVS",
      "include_colab_link": true
    },
    "kernelspec": {
      "name": "python3",
      "display_name": "Python 3"
    },
    "language_info": {
      "name": "python"
    }
  },
  "cells": [
    {
      "cell_type": "markdown",
      "metadata": {
        "id": "view-in-github",
        "colab_type": "text"
      },
      "source": [
        "<a href=\"https://colab.research.google.com/github/ilman79/Case-Study-02-Data-Mining-UIN-Ganjil-2022-Kelompok-1/blob/main/Study_Case_2_Kelompok_1.ipynb\" target=\"_parent\"><img src=\"https://colab.research.google.com/assets/colab-badge.svg\" alt=\"Open In Colab\"/></a>"
      ]
    },
    {
      "cell_type": "markdown",
      "source": [],
      "metadata": {
        "id": "iIRGMs9RdZkV"
      }
    },
    {
      "cell_type": "markdown",
      "source": [
        "#IMPORT DATA"
      ],
      "metadata": {
        "id": "SrFUvZoLdVZe"
      }
    },
    {
      "cell_type": "code",
      "source": [
        "import warnings; warnings.simplefilter('ignore')\n",
        "\n",
        "try:\n",
        "    import google.colab; IN_COLAB = True\n",
        "    print(\"Installing the required modules\")\n",
        "    !pip install --upgrade umap-learn\n",
        "    !wget https://raw.githubusercontent.com/taudata-indonesia/eLearning/master/tau_unsup.py\n",
        "except:\n",
        "    IN_COLAB = False\n",
        "    print(\"Running the code locally, please make sure all the python module versions agree with colab environment and all data/assets downloaded\")"
      ],
      "metadata": {
        "colab": {
          "base_uri": "https://localhost:8080/"
        },
        "id": "NWHqO4fxoEaP",
        "outputId": "3bed0718-6380-4b04-88d5-53f13a6009c1"
      },
      "execution_count": null,
      "outputs": [
        {
          "output_type": "stream",
          "name": "stdout",
          "text": [
            "Installing the required modules\n",
            "Looking in indexes: https://pypi.org/simple, https://us-python.pkg.dev/colab-wheels/public/simple/\n",
            "Requirement already satisfied: umap-learn in /usr/local/lib/python3.7/dist-packages (0.5.3)\n",
            "Requirement already satisfied: pynndescent>=0.5 in /usr/local/lib/python3.7/dist-packages (from umap-learn) (0.5.7)\n",
            "Requirement already satisfied: numpy>=1.17 in /usr/local/lib/python3.7/dist-packages (from umap-learn) (1.21.6)\n",
            "Requirement already satisfied: numba>=0.49 in /usr/local/lib/python3.7/dist-packages (from umap-learn) (0.56.2)\n",
            "Requirement already satisfied: scipy>=1.0 in /usr/local/lib/python3.7/dist-packages (from umap-learn) (1.7.3)\n",
            "Requirement already satisfied: scikit-learn>=0.22 in /usr/local/lib/python3.7/dist-packages (from umap-learn) (1.0.2)\n",
            "Requirement already satisfied: tqdm in /usr/local/lib/python3.7/dist-packages (from umap-learn) (4.64.1)\n",
            "Requirement already satisfied: importlib-metadata in /usr/local/lib/python3.7/dist-packages (from numba>=0.49->umap-learn) (5.0.0)\n",
            "Requirement already satisfied: setuptools<60 in /usr/local/lib/python3.7/dist-packages (from numba>=0.49->umap-learn) (57.4.0)\n",
            "Requirement already satisfied: llvmlite<0.40,>=0.39.0dev0 in /usr/local/lib/python3.7/dist-packages (from numba>=0.49->umap-learn) (0.39.1)\n",
            "Requirement already satisfied: joblib>=0.11 in /usr/local/lib/python3.7/dist-packages (from pynndescent>=0.5->umap-learn) (1.2.0)\n",
            "Requirement already satisfied: threadpoolctl>=2.0.0 in /usr/local/lib/python3.7/dist-packages (from scikit-learn>=0.22->umap-learn) (3.1.0)\n",
            "Requirement already satisfied: zipp>=0.5 in /usr/local/lib/python3.7/dist-packages (from importlib-metadata->numba>=0.49->umap-learn) (3.8.1)\n",
            "Requirement already satisfied: typing-extensions>=3.6.4 in /usr/local/lib/python3.7/dist-packages (from importlib-metadata->numba>=0.49->umap-learn) (4.1.1)\n",
            "--2022-10-12 02:33:35--  https://raw.githubusercontent.com/taudata-indonesia/eLearning/master/tau_unsup.py\n",
            "Resolving raw.githubusercontent.com (raw.githubusercontent.com)... 185.199.108.133, 185.199.109.133, 185.199.111.133, ...\n",
            "Connecting to raw.githubusercontent.com (raw.githubusercontent.com)|185.199.108.133|:443... connected.\n",
            "HTTP request sent, awaiting response... 200 OK\n",
            "Length: 17387 (17K) [text/plain]\n",
            "Saving to: ‘tau_unsup.py.9’\n",
            "\n",
            "tau_unsup.py.9      100%[===================>]  16.98K  --.-KB/s    in 0.001s  \n",
            "\n",
            "2022-10-12 02:33:35 (30.8 MB/s) - ‘tau_unsup.py.9’ saved [17387/17387]\n",
            "\n"
          ]
        }
      ]
    },
    {
      "cell_type": "code",
      "source": [
        "df = pd.read_csv('https://raw.githubusercontent.com/ilman79/Case-Study-02-Data-Mining-UIN-Ganjil-2022-Kelompok-1/main/Data/Case-Study-02-MixITup%20(1).csv')\n",
        "df"
      ],
      "metadata": {
        "colab": {
          "base_uri": "https://localhost:8080/",
          "height": 423
        },
        "id": "HAsKI51GItz8",
        "outputId": "2acef91a-9c1b-448e-e661-e9b1b0c66a80"
      },
      "execution_count": 68,
      "outputs": [
        {
          "output_type": "execute_result",
          "data": {
            "text/plain": [
              "      ID Jenis Kelamin  Umur  Pendapatan-per-bulan  skor-pengeluaran Menikah  \\\n",
              "0    101        Wanita    49              13114754                52       1   \n",
              "1    102        Wanita    32              33606557                86       1   \n",
              "2    103          Pria    51              15983606                41       1   \n",
              "3    104          Pria    19              12704918                55       0   \n",
              "4    105        Wanita    38              20081967                42       1   \n",
              "..   ...           ...   ...                   ...               ...     ...   \n",
              "195  296          Pria    31               4098360                73       1   \n",
              "196  297          Pria    57              15983606                51       1   \n",
              "197  298        Wanita    35              43032786                79       1   \n",
              "198  299        Wanita    23               1229508                94       1   \n",
              "199  300          Pria    50               1639344                14       1   \n",
              "\n",
              "          Kota  Promo HariFav  FavFlavor  \n",
              "0      Jakarta    1.0   Sabtu          2  \n",
              "1        Depok    1.0  Minggu          6  \n",
              "2      Jakarta    2.0  Minggu          3  \n",
              "3      Jakarta    1.0    Rabu          7  \n",
              "4      Jakarta    2.0   Senin          8  \n",
              "..         ...    ...     ...        ...  \n",
              "195      Depok    1.0   Senin          0  \n",
              "196    Jakarta    1.0  Minggu          5  \n",
              "197      Depok    1.0   Senin          7  \n",
              "198      Depok    0.0  Selasa          0  \n",
              "199  Tangerang    3.0  Minggu          6  \n",
              "\n",
              "[200 rows x 10 columns]"
            ],
            "text/html": [
              "\n",
              "  <div id=\"df-cdc9a12b-e055-4745-9032-b1c6fbf25141\">\n",
              "    <div class=\"colab-df-container\">\n",
              "      <div>\n",
              "<style scoped>\n",
              "    .dataframe tbody tr th:only-of-type {\n",
              "        vertical-align: middle;\n",
              "    }\n",
              "\n",
              "    .dataframe tbody tr th {\n",
              "        vertical-align: top;\n",
              "    }\n",
              "\n",
              "    .dataframe thead th {\n",
              "        text-align: right;\n",
              "    }\n",
              "</style>\n",
              "<table border=\"1\" class=\"dataframe\">\n",
              "  <thead>\n",
              "    <tr style=\"text-align: right;\">\n",
              "      <th></th>\n",
              "      <th>ID</th>\n",
              "      <th>Jenis Kelamin</th>\n",
              "      <th>Umur</th>\n",
              "      <th>Pendapatan-per-bulan</th>\n",
              "      <th>skor-pengeluaran</th>\n",
              "      <th>Menikah</th>\n",
              "      <th>Kota</th>\n",
              "      <th>Promo</th>\n",
              "      <th>HariFav</th>\n",
              "      <th>FavFlavor</th>\n",
              "    </tr>\n",
              "  </thead>\n",
              "  <tbody>\n",
              "    <tr>\n",
              "      <th>0</th>\n",
              "      <td>101</td>\n",
              "      <td>Wanita</td>\n",
              "      <td>49</td>\n",
              "      <td>13114754</td>\n",
              "      <td>52</td>\n",
              "      <td>1</td>\n",
              "      <td>Jakarta</td>\n",
              "      <td>1.0</td>\n",
              "      <td>Sabtu</td>\n",
              "      <td>2</td>\n",
              "    </tr>\n",
              "    <tr>\n",
              "      <th>1</th>\n",
              "      <td>102</td>\n",
              "      <td>Wanita</td>\n",
              "      <td>32</td>\n",
              "      <td>33606557</td>\n",
              "      <td>86</td>\n",
              "      <td>1</td>\n",
              "      <td>Depok</td>\n",
              "      <td>1.0</td>\n",
              "      <td>Minggu</td>\n",
              "      <td>6</td>\n",
              "    </tr>\n",
              "    <tr>\n",
              "      <th>2</th>\n",
              "      <td>103</td>\n",
              "      <td>Pria</td>\n",
              "      <td>51</td>\n",
              "      <td>15983606</td>\n",
              "      <td>41</td>\n",
              "      <td>1</td>\n",
              "      <td>Jakarta</td>\n",
              "      <td>2.0</td>\n",
              "      <td>Minggu</td>\n",
              "      <td>3</td>\n",
              "    </tr>\n",
              "    <tr>\n",
              "      <th>3</th>\n",
              "      <td>104</td>\n",
              "      <td>Pria</td>\n",
              "      <td>19</td>\n",
              "      <td>12704918</td>\n",
              "      <td>55</td>\n",
              "      <td>0</td>\n",
              "      <td>Jakarta</td>\n",
              "      <td>1.0</td>\n",
              "      <td>Rabu</td>\n",
              "      <td>7</td>\n",
              "    </tr>\n",
              "    <tr>\n",
              "      <th>4</th>\n",
              "      <td>105</td>\n",
              "      <td>Wanita</td>\n",
              "      <td>38</td>\n",
              "      <td>20081967</td>\n",
              "      <td>42</td>\n",
              "      <td>1</td>\n",
              "      <td>Jakarta</td>\n",
              "      <td>2.0</td>\n",
              "      <td>Senin</td>\n",
              "      <td>8</td>\n",
              "    </tr>\n",
              "    <tr>\n",
              "      <th>...</th>\n",
              "      <td>...</td>\n",
              "      <td>...</td>\n",
              "      <td>...</td>\n",
              "      <td>...</td>\n",
              "      <td>...</td>\n",
              "      <td>...</td>\n",
              "      <td>...</td>\n",
              "      <td>...</td>\n",
              "      <td>...</td>\n",
              "      <td>...</td>\n",
              "    </tr>\n",
              "    <tr>\n",
              "      <th>195</th>\n",
              "      <td>296</td>\n",
              "      <td>Pria</td>\n",
              "      <td>31</td>\n",
              "      <td>4098360</td>\n",
              "      <td>73</td>\n",
              "      <td>1</td>\n",
              "      <td>Depok</td>\n",
              "      <td>1.0</td>\n",
              "      <td>Senin</td>\n",
              "      <td>0</td>\n",
              "    </tr>\n",
              "    <tr>\n",
              "      <th>196</th>\n",
              "      <td>297</td>\n",
              "      <td>Pria</td>\n",
              "      <td>57</td>\n",
              "      <td>15983606</td>\n",
              "      <td>51</td>\n",
              "      <td>1</td>\n",
              "      <td>Jakarta</td>\n",
              "      <td>1.0</td>\n",
              "      <td>Minggu</td>\n",
              "      <td>5</td>\n",
              "    </tr>\n",
              "    <tr>\n",
              "      <th>197</th>\n",
              "      <td>298</td>\n",
              "      <td>Wanita</td>\n",
              "      <td>35</td>\n",
              "      <td>43032786</td>\n",
              "      <td>79</td>\n",
              "      <td>1</td>\n",
              "      <td>Depok</td>\n",
              "      <td>1.0</td>\n",
              "      <td>Senin</td>\n",
              "      <td>7</td>\n",
              "    </tr>\n",
              "    <tr>\n",
              "      <th>198</th>\n",
              "      <td>299</td>\n",
              "      <td>Wanita</td>\n",
              "      <td>23</td>\n",
              "      <td>1229508</td>\n",
              "      <td>94</td>\n",
              "      <td>1</td>\n",
              "      <td>Depok</td>\n",
              "      <td>0.0</td>\n",
              "      <td>Selasa</td>\n",
              "      <td>0</td>\n",
              "    </tr>\n",
              "    <tr>\n",
              "      <th>199</th>\n",
              "      <td>300</td>\n",
              "      <td>Pria</td>\n",
              "      <td>50</td>\n",
              "      <td>1639344</td>\n",
              "      <td>14</td>\n",
              "      <td>1</td>\n",
              "      <td>Tangerang</td>\n",
              "      <td>3.0</td>\n",
              "      <td>Minggu</td>\n",
              "      <td>6</td>\n",
              "    </tr>\n",
              "  </tbody>\n",
              "</table>\n",
              "<p>200 rows × 10 columns</p>\n",
              "</div>\n",
              "      <button class=\"colab-df-convert\" onclick=\"convertToInteractive('df-cdc9a12b-e055-4745-9032-b1c6fbf25141')\"\n",
              "              title=\"Convert this dataframe to an interactive table.\"\n",
              "              style=\"display:none;\">\n",
              "        \n",
              "  <svg xmlns=\"http://www.w3.org/2000/svg\" height=\"24px\"viewBox=\"0 0 24 24\"\n",
              "       width=\"24px\">\n",
              "    <path d=\"M0 0h24v24H0V0z\" fill=\"none\"/>\n",
              "    <path d=\"M18.56 5.44l.94 2.06.94-2.06 2.06-.94-2.06-.94-.94-2.06-.94 2.06-2.06.94zm-11 1L8.5 8.5l.94-2.06 2.06-.94-2.06-.94L8.5 2.5l-.94 2.06-2.06.94zm10 10l.94 2.06.94-2.06 2.06-.94-2.06-.94-.94-2.06-.94 2.06-2.06.94z\"/><path d=\"M17.41 7.96l-1.37-1.37c-.4-.4-.92-.59-1.43-.59-.52 0-1.04.2-1.43.59L10.3 9.45l-7.72 7.72c-.78.78-.78 2.05 0 2.83L4 21.41c.39.39.9.59 1.41.59.51 0 1.02-.2 1.41-.59l7.78-7.78 2.81-2.81c.8-.78.8-2.07 0-2.86zM5.41 20L4 18.59l7.72-7.72 1.47 1.35L5.41 20z\"/>\n",
              "  </svg>\n",
              "      </button>\n",
              "      \n",
              "  <style>\n",
              "    .colab-df-container {\n",
              "      display:flex;\n",
              "      flex-wrap:wrap;\n",
              "      gap: 12px;\n",
              "    }\n",
              "\n",
              "    .colab-df-convert {\n",
              "      background-color: #E8F0FE;\n",
              "      border: none;\n",
              "      border-radius: 50%;\n",
              "      cursor: pointer;\n",
              "      display: none;\n",
              "      fill: #1967D2;\n",
              "      height: 32px;\n",
              "      padding: 0 0 0 0;\n",
              "      width: 32px;\n",
              "    }\n",
              "\n",
              "    .colab-df-convert:hover {\n",
              "      background-color: #E2EBFA;\n",
              "      box-shadow: 0px 1px 2px rgba(60, 64, 67, 0.3), 0px 1px 3px 1px rgba(60, 64, 67, 0.15);\n",
              "      fill: #174EA6;\n",
              "    }\n",
              "\n",
              "    [theme=dark] .colab-df-convert {\n",
              "      background-color: #3B4455;\n",
              "      fill: #D2E3FC;\n",
              "    }\n",
              "\n",
              "    [theme=dark] .colab-df-convert:hover {\n",
              "      background-color: #434B5C;\n",
              "      box-shadow: 0px 1px 3px 1px rgba(0, 0, 0, 0.15);\n",
              "      filter: drop-shadow(0px 1px 2px rgba(0, 0, 0, 0.3));\n",
              "      fill: #FFFFFF;\n",
              "    }\n",
              "  </style>\n",
              "\n",
              "      <script>\n",
              "        const buttonEl =\n",
              "          document.querySelector('#df-cdc9a12b-e055-4745-9032-b1c6fbf25141 button.colab-df-convert');\n",
              "        buttonEl.style.display =\n",
              "          google.colab.kernel.accessAllowed ? 'block' : 'none';\n",
              "\n",
              "        async function convertToInteractive(key) {\n",
              "          const element = document.querySelector('#df-cdc9a12b-e055-4745-9032-b1c6fbf25141');\n",
              "          const dataTable =\n",
              "            await google.colab.kernel.invokeFunction('convertToInteractive',\n",
              "                                                     [key], {});\n",
              "          if (!dataTable) return;\n",
              "\n",
              "          const docLinkHtml = 'Like what you see? Visit the ' +\n",
              "            '<a target=\"_blank\" href=https://colab.research.google.com/notebooks/data_table.ipynb>data table notebook</a>'\n",
              "            + ' to learn more about interactive tables.';\n",
              "          element.innerHTML = '';\n",
              "          dataTable['output_type'] = 'display_data';\n",
              "          await google.colab.output.renderOutput(dataTable, element);\n",
              "          const docLink = document.createElement('div');\n",
              "          docLink.innerHTML = docLinkHtml;\n",
              "          element.appendChild(docLink);\n",
              "        }\n",
              "      </script>\n",
              "    </div>\n",
              "  </div>\n",
              "  "
            ]
          },
          "metadata": {},
          "execution_count": 68
        }
      ]
    },
    {
      "cell_type": "code",
      "source": [
        "import pandas as pd"
      ],
      "metadata": {
        "id": "1oiv_p-UrbLR"
      },
      "execution_count": 69,
      "outputs": []
    },
    {
      "cell_type": "markdown",
      "source": [
        "sudah melakukan missing value di excel,\n",
        "\n",
        "*   Sudah melakukan missing value di excel\n",
        "*   variabel pendapatan-per-bulan,\n",
        "variabel jenis kelamin,\n"
      ],
      "metadata": {
        "id": "494NxPb9vye_"
      }
    },
    {
      "cell_type": "code",
      "source": [
        "# drop kolom yang tidak terpakai\n",
        "df.drop([\"ID\"], axis=1, inplace=True)\n",
        "df"
      ],
      "metadata": {
        "colab": {
          "base_uri": "https://localhost:8080/",
          "height": 423
        },
        "id": "PaRyuR7CwhbV",
        "outputId": "f291a9a4-a4ae-4aac-d470-1cd679a36236"
      },
      "execution_count": 62,
      "outputs": [
        {
          "output_type": "execute_result",
          "data": {
            "text/plain": [
              "    Jenis Kelamin  Umur  Pendapatan-per-bulan  skor-pengeluaran Menikah  \\\n",
              "0          Wanita    49              13114754                52       1   \n",
              "1          Wanita    32              33606557                86       1   \n",
              "2            Pria    51              15983606                41       1   \n",
              "3            Pria    19              12704918                55       0   \n",
              "4          Wanita    38              20081967                42       1   \n",
              "..            ...   ...                   ...               ...     ...   \n",
              "195          Pria    31               4098360                73       1   \n",
              "196          Pria    57              15983606                51       1   \n",
              "197        Wanita    35              43032786                79       1   \n",
              "198        Wanita    23               1229508                94       1   \n",
              "199          Pria    50               1639344                14       1   \n",
              "\n",
              "          Kota  Promo HariFav  FavFlavor  \n",
              "0      Jakarta    1.0   Sabtu          2  \n",
              "1        Depok    1.0  Minggu          6  \n",
              "2      Jakarta    2.0  Minggu          3  \n",
              "3      Jakarta    1.0    Rabu          7  \n",
              "4      Jakarta    2.0   Senin          8  \n",
              "..         ...    ...     ...        ...  \n",
              "195      Depok    1.0   Senin          0  \n",
              "196    Jakarta    1.0  Minggu          5  \n",
              "197      Depok    1.0   Senin          7  \n",
              "198      Depok    0.0  Selasa          0  \n",
              "199  Tangerang    3.0  Minggu          6  \n",
              "\n",
              "[200 rows x 9 columns]"
            ],
            "text/html": [
              "\n",
              "  <div id=\"df-1cdc1bbb-44b6-4e75-99f6-19db1d6cbe0e\">\n",
              "    <div class=\"colab-df-container\">\n",
              "      <div>\n",
              "<style scoped>\n",
              "    .dataframe tbody tr th:only-of-type {\n",
              "        vertical-align: middle;\n",
              "    }\n",
              "\n",
              "    .dataframe tbody tr th {\n",
              "        vertical-align: top;\n",
              "    }\n",
              "\n",
              "    .dataframe thead th {\n",
              "        text-align: right;\n",
              "    }\n",
              "</style>\n",
              "<table border=\"1\" class=\"dataframe\">\n",
              "  <thead>\n",
              "    <tr style=\"text-align: right;\">\n",
              "      <th></th>\n",
              "      <th>Jenis Kelamin</th>\n",
              "      <th>Umur</th>\n",
              "      <th>Pendapatan-per-bulan</th>\n",
              "      <th>skor-pengeluaran</th>\n",
              "      <th>Menikah</th>\n",
              "      <th>Kota</th>\n",
              "      <th>Promo</th>\n",
              "      <th>HariFav</th>\n",
              "      <th>FavFlavor</th>\n",
              "    </tr>\n",
              "  </thead>\n",
              "  <tbody>\n",
              "    <tr>\n",
              "      <th>0</th>\n",
              "      <td>Wanita</td>\n",
              "      <td>49</td>\n",
              "      <td>13114754</td>\n",
              "      <td>52</td>\n",
              "      <td>1</td>\n",
              "      <td>Jakarta</td>\n",
              "      <td>1.0</td>\n",
              "      <td>Sabtu</td>\n",
              "      <td>2</td>\n",
              "    </tr>\n",
              "    <tr>\n",
              "      <th>1</th>\n",
              "      <td>Wanita</td>\n",
              "      <td>32</td>\n",
              "      <td>33606557</td>\n",
              "      <td>86</td>\n",
              "      <td>1</td>\n",
              "      <td>Depok</td>\n",
              "      <td>1.0</td>\n",
              "      <td>Minggu</td>\n",
              "      <td>6</td>\n",
              "    </tr>\n",
              "    <tr>\n",
              "      <th>2</th>\n",
              "      <td>Pria</td>\n",
              "      <td>51</td>\n",
              "      <td>15983606</td>\n",
              "      <td>41</td>\n",
              "      <td>1</td>\n",
              "      <td>Jakarta</td>\n",
              "      <td>2.0</td>\n",
              "      <td>Minggu</td>\n",
              "      <td>3</td>\n",
              "    </tr>\n",
              "    <tr>\n",
              "      <th>3</th>\n",
              "      <td>Pria</td>\n",
              "      <td>19</td>\n",
              "      <td>12704918</td>\n",
              "      <td>55</td>\n",
              "      <td>0</td>\n",
              "      <td>Jakarta</td>\n",
              "      <td>1.0</td>\n",
              "      <td>Rabu</td>\n",
              "      <td>7</td>\n",
              "    </tr>\n",
              "    <tr>\n",
              "      <th>4</th>\n",
              "      <td>Wanita</td>\n",
              "      <td>38</td>\n",
              "      <td>20081967</td>\n",
              "      <td>42</td>\n",
              "      <td>1</td>\n",
              "      <td>Jakarta</td>\n",
              "      <td>2.0</td>\n",
              "      <td>Senin</td>\n",
              "      <td>8</td>\n",
              "    </tr>\n",
              "    <tr>\n",
              "      <th>...</th>\n",
              "      <td>...</td>\n",
              "      <td>...</td>\n",
              "      <td>...</td>\n",
              "      <td>...</td>\n",
              "      <td>...</td>\n",
              "      <td>...</td>\n",
              "      <td>...</td>\n",
              "      <td>...</td>\n",
              "      <td>...</td>\n",
              "    </tr>\n",
              "    <tr>\n",
              "      <th>195</th>\n",
              "      <td>Pria</td>\n",
              "      <td>31</td>\n",
              "      <td>4098360</td>\n",
              "      <td>73</td>\n",
              "      <td>1</td>\n",
              "      <td>Depok</td>\n",
              "      <td>1.0</td>\n",
              "      <td>Senin</td>\n",
              "      <td>0</td>\n",
              "    </tr>\n",
              "    <tr>\n",
              "      <th>196</th>\n",
              "      <td>Pria</td>\n",
              "      <td>57</td>\n",
              "      <td>15983606</td>\n",
              "      <td>51</td>\n",
              "      <td>1</td>\n",
              "      <td>Jakarta</td>\n",
              "      <td>1.0</td>\n",
              "      <td>Minggu</td>\n",
              "      <td>5</td>\n",
              "    </tr>\n",
              "    <tr>\n",
              "      <th>197</th>\n",
              "      <td>Wanita</td>\n",
              "      <td>35</td>\n",
              "      <td>43032786</td>\n",
              "      <td>79</td>\n",
              "      <td>1</td>\n",
              "      <td>Depok</td>\n",
              "      <td>1.0</td>\n",
              "      <td>Senin</td>\n",
              "      <td>7</td>\n",
              "    </tr>\n",
              "    <tr>\n",
              "      <th>198</th>\n",
              "      <td>Wanita</td>\n",
              "      <td>23</td>\n",
              "      <td>1229508</td>\n",
              "      <td>94</td>\n",
              "      <td>1</td>\n",
              "      <td>Depok</td>\n",
              "      <td>0.0</td>\n",
              "      <td>Selasa</td>\n",
              "      <td>0</td>\n",
              "    </tr>\n",
              "    <tr>\n",
              "      <th>199</th>\n",
              "      <td>Pria</td>\n",
              "      <td>50</td>\n",
              "      <td>1639344</td>\n",
              "      <td>14</td>\n",
              "      <td>1</td>\n",
              "      <td>Tangerang</td>\n",
              "      <td>3.0</td>\n",
              "      <td>Minggu</td>\n",
              "      <td>6</td>\n",
              "    </tr>\n",
              "  </tbody>\n",
              "</table>\n",
              "<p>200 rows × 9 columns</p>\n",
              "</div>\n",
              "      <button class=\"colab-df-convert\" onclick=\"convertToInteractive('df-1cdc1bbb-44b6-4e75-99f6-19db1d6cbe0e')\"\n",
              "              title=\"Convert this dataframe to an interactive table.\"\n",
              "              style=\"display:none;\">\n",
              "        \n",
              "  <svg xmlns=\"http://www.w3.org/2000/svg\" height=\"24px\"viewBox=\"0 0 24 24\"\n",
              "       width=\"24px\">\n",
              "    <path d=\"M0 0h24v24H0V0z\" fill=\"none\"/>\n",
              "    <path d=\"M18.56 5.44l.94 2.06.94-2.06 2.06-.94-2.06-.94-.94-2.06-.94 2.06-2.06.94zm-11 1L8.5 8.5l.94-2.06 2.06-.94-2.06-.94L8.5 2.5l-.94 2.06-2.06.94zm10 10l.94 2.06.94-2.06 2.06-.94-2.06-.94-.94-2.06-.94 2.06-2.06.94z\"/><path d=\"M17.41 7.96l-1.37-1.37c-.4-.4-.92-.59-1.43-.59-.52 0-1.04.2-1.43.59L10.3 9.45l-7.72 7.72c-.78.78-.78 2.05 0 2.83L4 21.41c.39.39.9.59 1.41.59.51 0 1.02-.2 1.41-.59l7.78-7.78 2.81-2.81c.8-.78.8-2.07 0-2.86zM5.41 20L4 18.59l7.72-7.72 1.47 1.35L5.41 20z\"/>\n",
              "  </svg>\n",
              "      </button>\n",
              "      \n",
              "  <style>\n",
              "    .colab-df-container {\n",
              "      display:flex;\n",
              "      flex-wrap:wrap;\n",
              "      gap: 12px;\n",
              "    }\n",
              "\n",
              "    .colab-df-convert {\n",
              "      background-color: #E8F0FE;\n",
              "      border: none;\n",
              "      border-radius: 50%;\n",
              "      cursor: pointer;\n",
              "      display: none;\n",
              "      fill: #1967D2;\n",
              "      height: 32px;\n",
              "      padding: 0 0 0 0;\n",
              "      width: 32px;\n",
              "    }\n",
              "\n",
              "    .colab-df-convert:hover {\n",
              "      background-color: #E2EBFA;\n",
              "      box-shadow: 0px 1px 2px rgba(60, 64, 67, 0.3), 0px 1px 3px 1px rgba(60, 64, 67, 0.15);\n",
              "      fill: #174EA6;\n",
              "    }\n",
              "\n",
              "    [theme=dark] .colab-df-convert {\n",
              "      background-color: #3B4455;\n",
              "      fill: #D2E3FC;\n",
              "    }\n",
              "\n",
              "    [theme=dark] .colab-df-convert:hover {\n",
              "      background-color: #434B5C;\n",
              "      box-shadow: 0px 1px 3px 1px rgba(0, 0, 0, 0.15);\n",
              "      filter: drop-shadow(0px 1px 2px rgba(0, 0, 0, 0.3));\n",
              "      fill: #FFFFFF;\n",
              "    }\n",
              "  </style>\n",
              "\n",
              "      <script>\n",
              "        const buttonEl =\n",
              "          document.querySelector('#df-1cdc1bbb-44b6-4e75-99f6-19db1d6cbe0e button.colab-df-convert');\n",
              "        buttonEl.style.display =\n",
              "          google.colab.kernel.accessAllowed ? 'block' : 'none';\n",
              "\n",
              "        async function convertToInteractive(key) {\n",
              "          const element = document.querySelector('#df-1cdc1bbb-44b6-4e75-99f6-19db1d6cbe0e');\n",
              "          const dataTable =\n",
              "            await google.colab.kernel.invokeFunction('convertToInteractive',\n",
              "                                                     [key], {});\n",
              "          if (!dataTable) return;\n",
              "\n",
              "          const docLinkHtml = 'Like what you see? Visit the ' +\n",
              "            '<a target=\"_blank\" href=https://colab.research.google.com/notebooks/data_table.ipynb>data table notebook</a>'\n",
              "            + ' to learn more about interactive tables.';\n",
              "          element.innerHTML = '';\n",
              "          dataTable['output_type'] = 'display_data';\n",
              "          await google.colab.output.renderOutput(dataTable, element);\n",
              "          const docLink = document.createElement('div');\n",
              "          docLink.innerHTML = docLinkHtml;\n",
              "          element.appendChild(docLink);\n",
              "        }\n",
              "      </script>\n",
              "    </div>\n",
              "  </div>\n",
              "  "
            ]
          },
          "metadata": {},
          "execution_count": 62
        }
      ]
    },
    {
      "cell_type": "code",
      "source": [
        "df.info()"
      ],
      "metadata": {
        "colab": {
          "base_uri": "https://localhost:8080/"
        },
        "id": "G8PASAyIrj6c",
        "outputId": "76ff249e-d1a4-4da2-e99a-0db193f9657a"
      },
      "execution_count": 63,
      "outputs": [
        {
          "output_type": "stream",
          "name": "stdout",
          "text": [
            "<class 'pandas.core.frame.DataFrame'>\n",
            "RangeIndex: 200 entries, 0 to 199\n",
            "Data columns (total 9 columns):\n",
            " #   Column                Non-Null Count  Dtype  \n",
            "---  ------                --------------  -----  \n",
            " 0   Jenis Kelamin         195 non-null    object \n",
            " 1   Umur                  200 non-null    int64  \n",
            " 2   Pendapatan-per-bulan  200 non-null    int64  \n",
            " 3   skor-pengeluaran      200 non-null    int64  \n",
            " 4   Menikah               187 non-null    object \n",
            " 5   Kota                  200 non-null    object \n",
            " 6   Promo                 194 non-null    float64\n",
            " 7   HariFav               200 non-null    object \n",
            " 8   FavFlavor             200 non-null    int64  \n",
            "dtypes: float64(1), int64(4), object(4)\n",
            "memory usage: 14.2+ KB\n"
          ]
        }
      ]
    },
    {
      "cell_type": "code",
      "source": [
        "df['Menikah'] = df['Menikah'] .astype('category')\n",
        "df['Kota'] = df['Kota'] .astype('category')\n",
        "df['Promo'] = df['Promo'] .astype('category')\n",
        "df['HariFav'] = df['HariFav'] .astype('category')\n",
        "df['FavFlavor'] = df['FavFlavor'] .astype('int64')\n",
        "df['Jenis Kelamin'] = df['Jenis Kelamin'] .astype('category')\n",
        "df['Promo'] = df['Promo'] .astype('category')"
      ],
      "metadata": {
        "id": "2C5cZzauAJcT"
      },
      "execution_count": 97,
      "outputs": []
    },
    {
      "cell_type": "code",
      "source": [
        "df.info()"
      ],
      "metadata": {
        "colab": {
          "base_uri": "https://localhost:8080/"
        },
        "id": "5NSQIxeD5UP7",
        "outputId": "687989f9-0f69-414a-ab7d-8d27096dd8b0"
      },
      "execution_count": 72,
      "outputs": [
        {
          "output_type": "stream",
          "name": "stdout",
          "text": [
            "<class 'pandas.core.frame.DataFrame'>\n",
            "RangeIndex: 200 entries, 0 to 199\n",
            "Data columns (total 10 columns):\n",
            " #   Column                Non-Null Count  Dtype   \n",
            "---  ------                --------------  -----   \n",
            " 0   ID                    200 non-null    int64   \n",
            " 1   Jenis Kelamin         195 non-null    category\n",
            " 2   Umur                  200 non-null    int64   \n",
            " 3   Pendapatan-per-bulan  200 non-null    int64   \n",
            " 4   skor-pengeluaran      200 non-null    int64   \n",
            " 5   Menikah               187 non-null    category\n",
            " 6   Kota                  200 non-null    category\n",
            " 7   Promo                 194 non-null    category\n",
            " 8   HariFav               200 non-null    category\n",
            " 9   FavFlavor             200 non-null    category\n",
            "dtypes: category(6), int64(4)\n",
            "memory usage: 8.9 KB\n"
          ]
        }
      ]
    },
    {
      "cell_type": "markdown",
      "source": [],
      "metadata": {
        "id": "YzLFah2gr5ql"
      }
    },
    {
      "cell_type": "code",
      "source": [
        "df.duplicated().sum()"
      ],
      "metadata": {
        "id": "-vxOjEk9pTaS",
        "outputId": "62b44b53-963d-4ee9-f689-53cb66d00c00",
        "colab": {
          "base_uri": "https://localhost:8080/"
        }
      },
      "execution_count": 73,
      "outputs": [
        {
          "output_type": "execute_result",
          "data": {
            "text/plain": [
              "0"
            ]
          },
          "metadata": {},
          "execution_count": 73
        }
      ]
    },
    {
      "cell_type": "code",
      "source": [
        "df.isnull().sum()"
      ],
      "metadata": {
        "id": "wiGrEASXpW0h",
        "outputId": "441fb44a-4901-4e6e-fa1b-59094cfdb7dd",
        "colab": {
          "base_uri": "https://localhost:8080/"
        }
      },
      "execution_count": 74,
      "outputs": [
        {
          "output_type": "execute_result",
          "data": {
            "text/plain": [
              "ID                       0\n",
              "Jenis Kelamin            5\n",
              "Umur                     0\n",
              "Pendapatan-per-bulan     0\n",
              "skor-pengeluaran         0\n",
              "Menikah                 13\n",
              "Kota                     0\n",
              "Promo                    6\n",
              "HariFav                  0\n",
              "FavFlavor                0\n",
              "dtype: int64"
            ]
          },
          "metadata": {},
          "execution_count": 74
        }
      ]
    },
    {
      "cell_type": "code",
      "source": [
        "# fungsi untuk menampilkan boxplot \n",
        "import seaborn as sns\n",
        "import matplotlib.pyplot as plt\n",
        "def boxplot_outlier(box):\n",
        "  fig, ax = plt.subplots(figsize = (8,7))\n",
        "  sns.boxplot(x = box)"
      ],
      "metadata": {
        "id": "7_g-nWiQ3C1Y"
      },
      "execution_count": 75,
      "outputs": []
    },
    {
      "cell_type": "code",
      "source": [
        "# fungsi untuk menampilkan boxplot \n",
        "\n",
        "def boxplot_outlier(box):\n",
        "  fig, ax = plt.subplots(figsize = (8,7))\n",
        "  sns.boxplot(x = box)"
      ],
      "metadata": {
        "id": "j6vw2U923TQH"
      },
      "execution_count": 76,
      "outputs": []
    },
    {
      "cell_type": "code",
      "source": [
        "# fungsi untuk menampilkan batas atas dan batas bawah\n",
        "\n",
        "def batas(batas):\n",
        "  Q1 = batas.quatile(0.25) \n",
        "  Q3 = batas.quatile(0.75)\n",
        "\n",
        "  IQR = Q3 - Q1\n",
        "\n",
        "  global batasBawah\n",
        "  batasBawah = Q1 - (1.5 * IQR) \n",
        "\n",
        "  global batasAtas\n",
        "  batasBawah = Q3 + (1.5 * IQR)\n",
        "\n",
        "  print(\"Batas Bawah = \", batasBawah, \"\\nBatas Atas = \", batasAtas)\n",
        "def show_outlier(file, column):\n",
        "  return file[(column < batasBawah) | (column > batasAtas)]\n",
        "\n",
        "boxplot_outlier(df.Umur)"
      ],
      "metadata": {
        "id": "ZfjKp-mX4Q41",
        "outputId": "b8bb41a5-2add-448e-c54d-955ca61db8b4",
        "colab": {
          "base_uri": "https://localhost:8080/",
          "height": 442
        }
      },
      "execution_count": 83,
      "outputs": [
        {
          "output_type": "display_data",
          "data": {
            "text/plain": [
              "<Figure size 576x504 with 1 Axes>"
            ],
            "image/png": "[encoded data removed]"
          },
          "metadata": {
            "needs_background": "light"
          }
        }
      ]
    },
    {
      "cell_type": "markdown",
      "source": [
        "#VISUALISASI DATA"
      ],
      "metadata": {
        "id": "RcZ1B6LNdPR-"
      }
    },
    {
      "cell_type": "code",
      "source": [
        "p= sns.catplot(x=\"Jenis Kelamin\", y=\"Promo\", data=df)\n",
        "# Apa yang bisa dilihat dari hasil ini?"
      ],
      "metadata": {
        "id": "aY68JCv34lmC",
        "outputId": "74de1f4b-f8af-4e43-cc80-ba61d9c8c61c",
        "colab": {
          "base_uri": "https://localhost:8080/",
          "height": 369
        }
      },
      "execution_count": 85,
      "outputs": [
        {
          "output_type": "display_data",
          "data": {
            "text/plain": [
              "<Figure size 360x360 with 1 Axes>"
            ],
            "image/png": "[encoded data removed]"
          },
          "metadata": {
            "needs_background": "light"
          }
        }
      ]
    },
    {
      "cell_type": "code",
      "source": [
        "p= sns.catplot(x=\"Jenis Kelamin\", y=\"FavFlavor\", data=df)"
      ],
      "metadata": {
        "id": "0EEt50lLQ07y",
        "outputId": "1c62fbe8-78c5-4869-b0fc-6358deeb398b",
        "colab": {
          "base_uri": "https://localhost:8080/",
          "height": 369
        }
      },
      "execution_count": 86,
      "outputs": [
        {
          "output_type": "display_data",
          "data": {
            "text/plain": [
              "<Figure size 360x360 with 1 Axes>"
            ],
            "image/png": "[encoded data removed]"
          },
          "metadata": {
            "needs_background": "light"
          }
        }
      ]
    },
    {
      "cell_type": "code",
      "source": [
        "plt.figure(figsize = (10, 4))\n",
        "plt.xlabel('Harga (juta)')\n",
        "plt.ylabel('Luas Bangunan ($m^2$)')\n",
        "p = sns.scatterplot(x=\"Kota\", y=\"Umur\", hue='Kota', data=df)"
      ],
      "metadata": {
        "id": "iZtqQElBRMUh",
        "outputId": "3bf5f6cb-ef7d-4bca-f375-95d8dfbf573b",
        "colab": {
          "base_uri": "https://localhost:8080/",
          "height": 279
        }
      },
      "execution_count": 88,
      "outputs": [
        {
          "output_type": "display_data",
          "data": {
            "text/plain": [
              "<Figure size 720x288 with 1 Axes>"
            ],
            "image/png": "[encoded data removed]"
          },
          "metadata": {
            "needs_background": "light"
          }
        }
      ]
    },
    {
      "cell_type": "markdown",
      "source": [
        "**Dari visualisasi di atas dapat dilihat bahwa pengunjung MixITup yang paling sering beli adalah wanita dengan umur 32 tahun. Hal tersebut diduga karena tempat yang nyaman memungkinkan wanita tersebut menyelesaikan perkerjaannya di MixItup.**\n"
      ],
      "metadata": {
        "id": "pQSHnVOQdFkK"
      }
    },
    {
      "cell_type": "code",
      "source": [
        "df.Kota.value_counts().plot(kind='pie')"
      ],
      "metadata": {
        "id": "32njgF-zR_CO",
        "outputId": "f1021ee4-3509-4db8-9890-133bf9726f32",
        "colab": {
          "base_uri": "https://localhost:8080/",
          "height": 266
        }
      },
      "execution_count": 89,
      "outputs": [
        {
          "output_type": "execute_result",
          "data": {
            "text/plain": [
              "<matplotlib.axes._subplots.AxesSubplot at 0x7f210a022d10>"
            ]
          },
          "metadata": {},
          "execution_count": 89
        },
        {
          "output_type": "display_data",
          "data": {
            "text/plain": [
              "<Figure size 432x288 with 1 Axes>"
            ],
            "image/png": "[encoded data removed]"
          },
          "metadata": {}
        }
      ]
    },
    {
      "cell_type": "code",
      "source": [
        "# Scatter Plot of the hierarchical clustering results\n",
        "X2D = umap.UMAP(n_neighbors=5, min_dist=0.3, random_state=random_state).fit_transform(X)\n",
        "fig, ax = plt.subplots()\n",
        "ax.scatter(X2D[:,0], X2D[:,1], c=C_h)\n",
        "plt.show()"
      ],
      "metadata": {
        "id": "67RlY1TmXPJl",
        "outputId": "f34b82a9-842c-4743-c87a-3feb786e4971",
        "colab": {
          "base_uri": "https://localhost:8080/",
          "height": 934
        }
      },
      "execution_count": 103,
      "outputs": [
        {
          "output_type": "error",
          "ename": "ValueError",
          "evalue": "ignored",
          "traceback": [
            "\u001b[0;31m---------------------------------------------------------------------------\u001b[0m",
            "\u001b[0;31mValueError\u001b[0m                                Traceback (most recent call last)",
            "\u001b[0;32m<ipython-input-103-21be2c363eca>\u001b[0m in \u001b[0;36m<module>\u001b[0;34m\u001b[0m\n\u001b[1;32m      1\u001b[0m \u001b[0;32mfrom\u001b[0m \u001b[0msklearn\u001b[0m \u001b[0;32mimport\u001b[0m \u001b[0mpreprocessing\u001b[0m\u001b[0;34m\u001b[0m\u001b[0;34m\u001b[0m\u001b[0m\n\u001b[0;32m----> 2\u001b[0;31m \u001b[0mnormalized_arr\u001b[0m \u001b[0;34m=\u001b[0m \u001b[0mpreprocessing\u001b[0m\u001b[0;34m.\u001b[0m\u001b[0mnormalize\u001b[0m\u001b[0;34m(\u001b[0m\u001b[0mdf\u001b[0m\u001b[0;34m[\u001b[0m\u001b[0;34m'Pendapatan-per-bulan'\u001b[0m\u001b[0;34m]\u001b[0m\u001b[0;34m)\u001b[0m\u001b[0;34m\u001b[0m\u001b[0;34m\u001b[0m\u001b[0m\n\u001b[0m\u001b[1;32m      3\u001b[0m \u001b[0mprint\u001b[0m\u001b[0;34m(\u001b[0m\u001b[0mnormalized_arr\u001b[0m\u001b[0;34m)\u001b[0m\u001b[0;34m\u001b[0m\u001b[0;34m\u001b[0m\u001b[0m\n",
            "\u001b[0;32m/usr/local/lib/python3.7/dist-packages/sklearn/preprocessing/_data.py\u001b[0m in \u001b[0;36mnormalize\u001b[0;34m(X, norm, axis, copy, return_norm)\u001b[0m\n\u001b[1;32m   1795\u001b[0m         \u001b[0mcopy\u001b[0m\u001b[0;34m=\u001b[0m\u001b[0mcopy\u001b[0m\u001b[0;34m,\u001b[0m\u001b[0;34m\u001b[0m\u001b[0;34m\u001b[0m\u001b[0m\n\u001b[1;32m   1796\u001b[0m         \u001b[0mestimator\u001b[0m\u001b[0;34m=\u001b[0m\u001b[0;34m\"the normalize function\"\u001b[0m\u001b[0;34m,\u001b[0m\u001b[0;34m\u001b[0m\u001b[0;34m\u001b[0m\u001b[0m\n\u001b[0;32m-> 1797\u001b[0;31m         \u001b[0mdtype\u001b[0m\u001b[0;34m=\u001b[0m\u001b[0mFLOAT_DTYPES\u001b[0m\u001b[0;34m,\u001b[0m\u001b[0;34m\u001b[0m\u001b[0;34m\u001b[0m\u001b[0m\n\u001b[0m\u001b[1;32m   1798\u001b[0m     )\n\u001b[1;32m   1799\u001b[0m     \u001b[0;32mif\u001b[0m \u001b[0maxis\u001b[0m \u001b[0;34m==\u001b[0m \u001b[0;36m0\u001b[0m\u001b[0;34m:\u001b[0m\u001b[0;34m\u001b[0m\u001b[0;34m\u001b[0m\u001b[0m\n",
            "\u001b[0;32m/usr/local/lib/python3.7/dist-packages/sklearn/utils/validation.py\u001b[0m in \u001b[0;36mcheck_array\u001b[0;34m(array, accept_sparse, accept_large_sparse, dtype, order, copy, force_all_finite, ensure_2d, allow_nd, ensure_min_samples, ensure_min_features, estimator)\u001b[0m\n\u001b[1;32m    771\u001b[0m                     \u001b[0;34m\"Reshape your data either using array.reshape(-1, 1) if \"\u001b[0m\u001b[0;34m\u001b[0m\u001b[0;34m\u001b[0m\u001b[0m\n\u001b[1;32m    772\u001b[0m                     \u001b[0;34m\"your data has a single feature or array.reshape(1, -1) \"\u001b[0m\u001b[0;34m\u001b[0m\u001b[0;34m\u001b[0m\u001b[0m\n\u001b[0;32m--> 773\u001b[0;31m                     \u001b[0;34m\"if it contains a single sample.\"\u001b[0m\u001b[0;34m.\u001b[0m\u001b[0mformat\u001b[0m\u001b[0;34m(\u001b[0m\u001b[0marray\u001b[0m\u001b[0;34m)\u001b[0m\u001b[0;34m\u001b[0m\u001b[0;34m\u001b[0m\u001b[0m\n\u001b[0m\u001b[1;32m    774\u001b[0m                 )\n\u001b[1;32m    775\u001b[0m \u001b[0;34m\u001b[0m\u001b[0m\n",
            "\u001b[0;31mValueError\u001b[0m: Expected 2D array, got 1D array instead:\narray=[13114754. 33606557. 15983606. 12704918. 20081967. 29098360. 21311475.\n  2049180. 13524590. 19262295. 11475409. 29508196. 34016393.  6147540.\n  2049180. 11885245. 25819672. 25000000.  5327868.  9836065.  2049180.\n 13524590. 11475409. 23770491. 22950819. 15983606.  1229508. 15983606.\n  9016393. 25819672.  9426229. 29918032. 28688524. 21311475. 19262295.\n 27049180. 18442622. 25819672. 18442622. 19672131.  2049180. 11065573.\n 25819672. 33606557. 36065573. 15983606. 20491803. 29508196. 18442622.\n 17622950. 19262295.   409836. 20491803. 25409836. 11475409.  1639344.\n 19672131.  5737704. 34426229.  9836065. 10245901. 19672131. 12704918.\n 13114754. 10245901. 15983606. 50000000. 14344262.   409836. 35245901.\n 11065573.  7377049. 15983606. 35245901.  9836065. 45491803. 13524590.\n 40163934. 22950819.  5327868. 25819672. 17213114. 27049180. 23360655.\n 10245901. 15983606.  7786885. 25000000. 15983606. 25409836. 29508196.\n 22950819. 18852459. 29508196. 29918032. 29918032. 14344262. 21311475.\n 22131147. 10245901. 13524590. 25819672. 50000000. 20491803.  5327868.\n  3688524.  1639344. 20491803. 18442622.  2459016.  6147540. 22131147.\n 15983606.  3278688. 19672131. 22950819. 19262295. 15983606. 34016393.\n 18032786.  7377049. 11475409. 36065573. 24180327. 36065573.  5327868.\n 18442622. 13524590. 22540983. 19672131. 25819672.  7377049.   819672.\n 23770491.  2459016. 19262295. 22950819. 24180327. 18852459.  1639344.\n 21311475. 23360655.  3688524. 29098360. 25819672. 22950819. 13524590.\n 13934426.  7377049. 26229508. 25819672. 34426229. 31967213. 19262295.\n 31967213.  3278688.  9016393. 25819672. 29508196.  9426229. 24590163.\n 20081967. 23770491. 13934426. 26229508. 18032786. 25819672. 29508196.\n 18442622. 45491803. 12704918. 24590163. 17622950. 15983606. 36065573.\n 25819672. 25409836.  7786885. 17213114. 23770491. 28688524. 25409836.\n 43032786.  5737704. 40163934.        0.  4098360.        0. 11885245.\n 12704918. 29918032.   819672. 22540983. 19672131.  9836065.  4098360.\n 15983606. 43032786.  1229508.  1639344.].\nReshape your data either using array.reshape(-1, 1) if your data has a single feature or array.reshape(1, -1) if it contains a single sample."
          ]
        }
      ]
    },
    {
      "cell_type": "code",
      "source": [
        "df.corr()"
      ],
      "metadata": {
        "id": "ht_9A3IDXLqD",
        "outputId": "ab9c2af7-aa22-449f-84fc-f868c7433aba",
        "colab": {
          "base_uri": "https://localhost:8080/",
          "height": 206
        }
      },
      "execution_count": 101,
      "outputs": [
        {
          "output_type": "execute_result",
          "data": {
            "text/plain": [
              "                            ID      Umur  Pendapatan-per-bulan  \\\n",
              "ID                    1.000000 -0.024532              0.035482   \n",
              "Umur                 -0.024532  1.000000              0.034767   \n",
              "Pendapatan-per-bulan  0.035482  0.034767              1.000000   \n",
              "skor-pengeluaran      0.037461 -0.335117              0.009587   \n",
              "FavFlavor             0.032833  0.057894              0.015150   \n",
              "\n",
              "                      skor-pengeluaran  FavFlavor  \n",
              "ID                            0.037461   0.032833  \n",
              "Umur                         -0.335117   0.057894  \n",
              "Pendapatan-per-bulan          0.009587   0.015150  \n",
              "skor-pengeluaran              1.000000  -0.185610  \n",
              "FavFlavor                    -0.185610   1.000000  "
            ],
            "text/html": [
              "\n",
              "  <div id=\"df-b83c0d88-7a8a-414f-bacd-0d7185492c77\">\n",
              "    <div class=\"colab-df-container\">\n",
              "      <div>\n",
              "<style scoped>\n",
              "    .dataframe tbody tr th:only-of-type {\n",
              "        vertical-align: middle;\n",
              "    }\n",
              "\n",
              "    .dataframe tbody tr th {\n",
              "        vertical-align: top;\n",
              "    }\n",
              "\n",
              "    .dataframe thead th {\n",
              "        text-align: right;\n",
              "    }\n",
              "</style>\n",
              "<table border=\"1\" class=\"dataframe\">\n",
              "  <thead>\n",
              "    <tr style=\"text-align: right;\">\n",
              "      <th></th>\n",
              "      <th>ID</th>\n",
              "      <th>Umur</th>\n",
              "      <th>Pendapatan-per-bulan</th>\n",
              "      <th>skor-pengeluaran</th>\n",
              "      <th>FavFlavor</th>\n",
              "    </tr>\n",
              "  </thead>\n",
              "  <tbody>\n",
              "    <tr>\n",
              "      <th>ID</th>\n",
              "      <td>1.000000</td>\n",
              "      <td>-0.024532</td>\n",
              "      <td>0.035482</td>\n",
              "      <td>0.037461</td>\n",
              "      <td>0.032833</td>\n",
              "    </tr>\n",
              "    <tr>\n",
              "      <th>Umur</th>\n",
              "      <td>-0.024532</td>\n",
              "      <td>1.000000</td>\n",
              "      <td>0.034767</td>\n",
              "      <td>-0.335117</td>\n",
              "      <td>0.057894</td>\n",
              "    </tr>\n",
              "    <tr>\n",
              "      <th>Pendapatan-per-bulan</th>\n",
              "      <td>0.035482</td>\n",
              "      <td>0.034767</td>\n",
              "      <td>1.000000</td>\n",
              "      <td>0.009587</td>\n",
              "      <td>0.015150</td>\n",
              "    </tr>\n",
              "    <tr>\n",
              "      <th>skor-pengeluaran</th>\n",
              "      <td>0.037461</td>\n",
              "      <td>-0.335117</td>\n",
              "      <td>0.009587</td>\n",
              "      <td>1.000000</td>\n",
              "      <td>-0.185610</td>\n",
              "    </tr>\n",
              "    <tr>\n",
              "      <th>FavFlavor</th>\n",
              "      <td>0.032833</td>\n",
              "      <td>0.057894</td>\n",
              "      <td>0.015150</td>\n",
              "      <td>-0.185610</td>\n",
              "      <td>1.000000</td>\n",
              "    </tr>\n",
              "  </tbody>\n",
              "</table>\n",
              "</div>\n",
              "      <button class=\"colab-df-convert\" onclick=\"convertToInteractive('df-b83c0d88-7a8a-414f-bacd-0d7185492c77')\"\n",
              "              title=\"Convert this dataframe to an interactive table.\"\n",
              "              style=\"display:none;\">\n",
              "        \n",
              "  <svg xmlns=\"http://www.w3.org/2000/svg\" height=\"24px\"viewBox=\"0 0 24 24\"\n",
              "       width=\"24px\">\n",
              "    <path d=\"M0 0h24v24H0V0z\" fill=\"none\"/>\n",
              "    <path d=\"M18.56 5.44l.94 2.06.94-2.06 2.06-.94-2.06-.94-.94-2.06-.94 2.06-2.06.94zm-11 1L8.5 8.5l.94-2.06 2.06-.94-2.06-.94L8.5 2.5l-.94 2.06-2.06.94zm10 10l.94 2.06.94-2.06 2.06-.94-2.06-.94-.94-2.06-.94 2.06-2.06.94z\"/><path d=\"M17.41 7.96l-1.37-1.37c-.4-.4-.92-.59-1.43-.59-.52 0-1.04.2-1.43.59L10.3 9.45l-7.72 7.72c-.78.78-.78 2.05 0 2.83L4 21.41c.39.39.9.59 1.41.59.51 0 1.02-.2 1.41-.59l7.78-7.78 2.81-2.81c.8-.78.8-2.07 0-2.86zM5.41 20L4 18.59l7.72-7.72 1.47 1.35L5.41 20z\"/>\n",
              "  </svg>\n",
              "      </button>\n",
              "      \n",
              "  <style>\n",
              "    .colab-df-container {\n",
              "      display:flex;\n",
              "      flex-wrap:wrap;\n",
              "      gap: 12px;\n",
              "    }\n",
              "\n",
              "    .colab-df-convert {\n",
              "      background-color: #E8F0FE;\n",
              "      border: none;\n",
              "      border-radius: 50%;\n",
              "      cursor: pointer;\n",
              "      display: none;\n",
              "      fill: #1967D2;\n",
              "      height: 32px;\n",
              "      padding: 0 0 0 0;\n",
              "      width: 32px;\n",
              "    }\n",
              "\n",
              "    .colab-df-convert:hover {\n",
              "      background-color: #E2EBFA;\n",
              "      box-shadow: 0px 1px 2px rgba(60, 64, 67, 0.3), 0px 1px 3px 1px rgba(60, 64, 67, 0.15);\n",
              "      fill: #174EA6;\n",
              "    }\n",
              "\n",
              "    [theme=dark] .colab-df-convert {\n",
              "      background-color: #3B4455;\n",
              "      fill: #D2E3FC;\n",
              "    }\n",
              "\n",
              "    [theme=dark] .colab-df-convert:hover {\n",
              "      background-color: #434B5C;\n",
              "      box-shadow: 0px 1px 3px 1px rgba(0, 0, 0, 0.15);\n",
              "      filter: drop-shadow(0px 1px 2px rgba(0, 0, 0, 0.3));\n",
              "      fill: #FFFFFF;\n",
              "    }\n",
              "  </style>\n",
              "\n",
              "      <script>\n",
              "        const buttonEl =\n",
              "          document.querySelector('#df-b83c0d88-7a8a-414f-bacd-0d7185492c77 button.colab-df-convert');\n",
              "        buttonEl.style.display =\n",
              "          google.colab.kernel.accessAllowed ? 'block' : 'none';\n",
              "\n",
              "        async function convertToInteractive(key) {\n",
              "          const element = document.querySelector('#df-b83c0d88-7a8a-414f-bacd-0d7185492c77');\n",
              "          const dataTable =\n",
              "            await google.colab.kernel.invokeFunction('convertToInteractive',\n",
              "                                                     [key], {});\n",
              "          if (!dataTable) return;\n",
              "\n",
              "          const docLinkHtml = 'Like what you see? Visit the ' +\n",
              "            '<a target=\"_blank\" href=https://colab.research.google.com/notebooks/data_table.ipynb>data table notebook</a>'\n",
              "            + ' to learn more about interactive tables.';\n",
              "          element.innerHTML = '';\n",
              "          dataTable['output_type'] = 'display_data';\n",
              "          await google.colab.output.renderOutput(dataTable, element);\n",
              "          const docLink = document.createElement('div');\n",
              "          docLink.innerHTML = docLinkHtml;\n",
              "          element.appendChild(docLink);\n",
              "        }\n",
              "      </script>\n",
              "    </div>\n",
              "  </div>\n",
              "  "
            ]
          },
          "metadata": {},
          "execution_count": 101
        }
      ]
    },
    {
      "cell_type": "code",
      "source": [
        "a = sns.countplot(x=\"FavFlavor\", data=df)"
      ],
      "metadata": {
        "id": "FmbjkWJKXM3T",
        "outputId": "4722c6e1-8b97-4b0e-df7d-3da8c62fc5f5",
        "colab": {
          "base_uri": "https://localhost:8080/",
          "height": 279
        }
      },
      "execution_count": 105,
      "outputs": [
        {
          "output_type": "display_data",
          "data": {
            "text/plain": [
              "<Figure size 432x288 with 1 Axes>"
            ],
            "image/png": "[encoded data removed]"
          },
          "metadata": {
            "needs_background": "light"
          }
        }
      ]
    },
    {
      "cell_type": "code",
      "source": [
        "df[\"skor-pengeluaran\"] = (df[\"skor-pengeluaran\"] - df[\"skor-pengeluaran\"].mean()) / df[\"skor-pengeluaran\"].std()\n",
        "df[\"Umur\"] = (df[\"Umur\"] - df[\"Umur\"].mean()) / df[\"Umur\"].std()\n",
        "df[\"FavFlavor\"] = (df[\"FavFlavor\"] - df[\"FavFlavor\"].mean()) / df[\"FavFlavor\"].std()"
      ],
      "metadata": {
        "id": "uDisMidqZld5"
      },
      "execution_count": 112,
      "outputs": []
    },
    {
      "cell_type": "code",
      "source": [],
      "metadata": {
        "id": "SdthESxXbjnT"
      },
      "execution_count": null,
      "outputs": []
    }
  ]
}